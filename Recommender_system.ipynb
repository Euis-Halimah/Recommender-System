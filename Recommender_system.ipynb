{
 "cells": [
  {
   "cell_type": "code",
   "execution_count": 66,
   "metadata": {},
   "outputs": [
    {
     "name": "stdout",
     "output_type": "stream",
     "text": [
      "Membaca file: D:\\Documents\\Tugas Akhir\\Recommender System\\Dataset\\Acne_Cream.csv\n",
      "Membaca file: D:\\Documents\\Tugas Akhir\\Recommender System\\Dataset\\acne_pimple_patch.csv\n",
      "Membaca file: D:\\Documents\\Tugas Akhir\\Recommender System\\Dataset\\Ampoule.csv\n",
      "Membaca file: D:\\Documents\\Tugas Akhir\\Recommender System\\Dataset\\booster.csv\n",
      "Membaca file: D:\\Documents\\Tugas Akhir\\Recommender System\\Dataset\\Clay_Mask.csv\n",
      "Membaca file: D:\\Documents\\Tugas Akhir\\Recommender System\\Dataset\\cleansing_Balm.csv\n",
      "Membaca file: D:\\Documents\\Tugas Akhir\\Recommender System\\Dataset\\Cleansing_Bar_Powder.csv\n",
      "Membaca file: D:\\Documents\\Tugas Akhir\\Recommender System\\Dataset\\cleansing_cream.csv\n",
      "Membaca file: D:\\Documents\\Tugas Akhir\\Recommender System\\Dataset\\Cleansing_Gel.csv\n",
      "Membaca file: D:\\Documents\\Tugas Akhir\\Recommender System\\Dataset\\Cleansing_Oil.csv\n",
      "Membaca file: D:\\Documents\\Tugas Akhir\\Recommender System\\Dataset\\cleansing_wipes.csv\n",
      "Membaca file: D:\\Documents\\Tugas Akhir\\Recommender System\\Dataset\\Essence.csv\n",
      "Membaca file: D:\\Documents\\Tugas Akhir\\Recommender System\\Dataset\\Eyelash_Serum.csv\n",
      "Membaca file: D:\\Documents\\Tugas Akhir\\Recommender System\\Dataset\\Eye_Cream.csv\n",
      "Membaca file: D:\\Documents\\Tugas Akhir\\Recommender System\\Dataset\\Eye_Mask.csv\n",
      "Membaca file: D:\\Documents\\Tugas Akhir\\Recommender System\\Dataset\\Eye_Serum.csv\n",
      "Membaca file: D:\\Documents\\Tugas Akhir\\Recommender System\\Dataset\\Face_Cream.csv\n",
      "Membaca file: D:\\Documents\\Tugas Akhir\\Recommender System\\Dataset\\Face_Gel.csv\n",
      "Membaca file: D:\\Documents\\Tugas Akhir\\Recommender System\\Dataset\\Face_Mist.csv\n",
      "Membaca file: D:\\Documents\\Tugas Akhir\\Recommender System\\Dataset\\Face_Oil.csv\n",
      "Membaca file: D:\\Documents\\Tugas Akhir\\Recommender System\\Dataset\\Face_Serum.csv\n",
      "Membaca file: D:\\Documents\\Tugas Akhir\\Recommender System\\Dataset\\Face_Wash.csv\n",
      "Membaca file: D:\\Documents\\Tugas Akhir\\Recommender System\\Dataset\\Lip_Balm.csv\n",
      "Membaca file: D:\\Documents\\Tugas Akhir\\Recommender System\\Dataset\\Lip_Mask.csv\n",
      "Membaca file: D:\\Documents\\Tugas Akhir\\Recommender System\\Dataset\\Lip_Scrub.csv\n",
      "Membaca file: D:\\Documents\\Tugas Akhir\\Recommender System\\Dataset\\Lip_Serum.csv\n",
      "Membaca file: D:\\Documents\\Tugas Akhir\\Recommender System\\Dataset\\makeup_remover.csv\n",
      "Membaca file: D:\\Documents\\Tugas Akhir\\Recommender System\\Dataset\\Micellar_Water.csv\n",
      "Membaca file: D:\\Documents\\Tugas Akhir\\Recommender System\\Dataset\\Nose Pack.csv\n",
      "Membaca file: D:\\Documents\\Tugas Akhir\\Recommender System\\Dataset\\Peeling.csv\n",
      "Membaca file: D:\\Documents\\Tugas Akhir\\Recommender System\\Dataset\\Peel_off_Mask.csv\n",
      "Membaca file: D:\\Documents\\Tugas Akhir\\Recommender System\\Dataset\\Scrub.csv\n",
      "Membaca file: D:\\Documents\\Tugas Akhir\\Recommender System\\Dataset\\Sheet_Mask.csv\n",
      "Membaca file: D:\\Documents\\Tugas Akhir\\Recommender System\\Dataset\\Sleeping_Mask.csv\n",
      "Membaca file: D:\\Documents\\Tugas Akhir\\Recommender System\\Dataset\\Sunscreen.csv\n",
      "Membaca file: D:\\Documents\\Tugas Akhir\\Recommender System\\Dataset\\Toner.csv\n",
      "Membaca file: D:\\Documents\\Tugas Akhir\\Recommender System\\Dataset\\Touch_Ups_Sunscreen.csv\n",
      "Membaca file: D:\\Documents\\Tugas Akhir\\Recommender System\\Dataset\\Wash_off_Mask.csv\n"
     ]
    }
   ],
   "source": [
    "import pandas as pd\n",
    "import glob\n",
    "\n",
    "# Path ke folder yang berisi file CSV\n",
    "folder_path = \"D:\\Documents\\Tugas Akhir\\Recommender System\\Dataset\\*.csv\"\n",
    "\n",
    "# Ambil semua file CSV dalam folder\n",
    "csv_files = glob.glob(folder_path)\n",
    "\n",
    "# List untuk menyimpan data dari setiap file\n",
    "dataframes = []\n",
    "\n",
    "# Loop untuk membaca setiap file CSV\n",
    "for file in csv_files:\n",
    "    print(f\"Membaca file: {file}\")\n",
    "    df = pd.read_csv(file,  sep=';', encoding='ISO-8859-1')\n",
    "    dataframes.append(df)\n"
   ]
  },
  {
   "cell_type": "code",
   "execution_count": 67,
   "metadata": {},
   "outputs": [
    {
     "data": {
      "text/html": [
       "<div>\n",
       "<style scoped>\n",
       "    .dataframe tbody tr th:only-of-type {\n",
       "        vertical-align: middle;\n",
       "    }\n",
       "\n",
       "    .dataframe tbody tr th {\n",
       "        vertical-align: top;\n",
       "    }\n",
       "\n",
       "    .dataframe thead th {\n",
       "        text-align: right;\n",
       "    }\n",
       "</style>\n",
       "<table border=\"1\" class=\"dataframe\">\n",
       "  <thead>\n",
       "    <tr style=\"text-align: right;\">\n",
       "      <th></th>\n",
       "      <th>name</th>\n",
       "      <th>brand</th>\n",
       "      <th>price</th>\n",
       "      <th>ingredients</th>\n",
       "      <th>rating</th>\n",
       "      <th>sub-category</th>\n",
       "      <th>category</th>\n",
       "      <th>benefit</th>\n",
       "    </tr>\n",
       "  </thead>\n",
       "  <tbody>\n",
       "    <tr>\n",
       "      <th>0</th>\n",
       "      <td>Biome Ultimate Indulging Cream</td>\n",
       "      <td>AXIS-Y</td>\n",
       "      <td>Rp229.000</td>\n",
       "      <td>Water, Glycerin, Betaine, Methylpropanediol, C...</td>\n",
       "      <td>4.9</td>\n",
       "      <td>Acne Cream</td>\n",
       "      <td>Treatment</td>\n",
       "      <td>meningkatkan elastisitas kulit, membuat kulit ...</td>\n",
       "    </tr>\n",
       "    <tr>\n",
       "      <th>1</th>\n",
       "      <td>SOS Acne Gel</td>\n",
       "      <td>BLP BEAUTY</td>\n",
       "      <td>Rp39.500</td>\n",
       "      <td>Water, Camellia Sinensis Leaf Extract, Butylen...</td>\n",
       "      <td>5.0</td>\n",
       "      <td>Acne Cream</td>\n",
       "      <td>Treatment</td>\n",
       "      <td>merawat jerawat secara efektif dan efisien tan...</td>\n",
       "    </tr>\n",
       "    <tr>\n",
       "      <th>2</th>\n",
       "      <td>Brightening Cream</td>\n",
       "      <td>FOCALSKIN</td>\n",
       "      <td>Rp120.320</td>\n",
       "      <td>AQUA, BUTYLENE GLYCOL, HYDROGENATED POLYISOBUT...</td>\n",
       "      <td>0.0</td>\n",
       "      <td>Acne Cream</td>\n",
       "      <td>Treatment</td>\n",
       "      <td>Mencerahkan wajah, Mengurangi kulit kusam, men...</td>\n",
       "    </tr>\n",
       "    <tr>\n",
       "      <th>3</th>\n",
       "      <td>Licorice Advanced Peeling Gel</td>\n",
       "      <td>NPURE</td>\n",
       "      <td>Rp65.000</td>\n",
       "      <td>Water, Glycerin, Cellulose, Dipropylene Glycol...</td>\n",
       "      <td>4.8</td>\n",
       "      <td>Acne Cream</td>\n",
       "      <td>Treatment</td>\n",
       "      <td>membantu mencerahkan kulit yang kusam, mengang...</td>\n",
       "    </tr>\n",
       "    <tr>\n",
       "      <th>4</th>\n",
       "      <td>Krim Penghilang Noda Bekas Jerawat Luka &amp; Stre...</td>\n",
       "      <td>BREYLEE</td>\n",
       "      <td>Rp100.000</td>\n",
       "      <td>Aqua, Glycerin, Centella Asiatica Extract, Arb...</td>\n",
       "      <td>4.5</td>\n",
       "      <td>Acne Cream</td>\n",
       "      <td>Treatment</td>\n",
       "      <td>menyamarkan bekas jerawat, C-Section, dan luka...</td>\n",
       "    </tr>\n",
       "  </tbody>\n",
       "</table>\n",
       "</div>"
      ],
      "text/plain": [
       "                                                name       brand      price  \\\n",
       "0                     Biome Ultimate Indulging Cream      AXIS-Y  Rp229.000   \n",
       "1                                       SOS Acne Gel  BLP BEAUTY   Rp39.500   \n",
       "2                                  Brightening Cream   FOCALSKIN  Rp120.320   \n",
       "3                      Licorice Advanced Peeling Gel       NPURE   Rp65.000   \n",
       "4  Krim Penghilang Noda Bekas Jerawat Luka & Stre...     BREYLEE  Rp100.000   \n",
       "\n",
       "                                         ingredients  rating sub-category  \\\n",
       "0  Water, Glycerin, Betaine, Methylpropanediol, C...     4.9   Acne Cream   \n",
       "1  Water, Camellia Sinensis Leaf Extract, Butylen...     5.0   Acne Cream   \n",
       "2  AQUA, BUTYLENE GLYCOL, HYDROGENATED POLYISOBUT...     0.0   Acne Cream   \n",
       "3  Water, Glycerin, Cellulose, Dipropylene Glycol...     4.8   Acne Cream   \n",
       "4  Aqua, Glycerin, Centella Asiatica Extract, Arb...     4.5   Acne Cream   \n",
       "\n",
       "    category                                            benefit  \n",
       "0  Treatment  meningkatkan elastisitas kulit, membuat kulit ...  \n",
       "1  Treatment  merawat jerawat secara efektif dan efisien tan...  \n",
       "2  Treatment  Mencerahkan wajah, Mengurangi kulit kusam, men...  \n",
       "3  Treatment  membantu mencerahkan kulit yang kusam, mengang...  \n",
       "4  Treatment  menyamarkan bekas jerawat, C-Section, dan luka...  "
      ]
     },
     "execution_count": 67,
     "metadata": {},
     "output_type": "execute_result"
    }
   ],
   "source": [
    "df = dataframes[0] \n",
    "df.head()"
   ]
  },
  {
   "cell_type": "code",
   "execution_count": null,
   "metadata": {},
   "outputs": [],
   "source": [
    "for i, df in enumerate(dataframes):\n",
    "    print(f\"File ke-{i+1} memiliki kolom: {df.columns.tolist()}\")\n"
   ]
  },
  {
   "cell_type": "code",
   "execution_count": 68,
   "metadata": {},
   "outputs": [
    {
     "data": {
      "text/html": [
       "<div>\n",
       "<style scoped>\n",
       "    .dataframe tbody tr th:only-of-type {\n",
       "        vertical-align: middle;\n",
       "    }\n",
       "\n",
       "    .dataframe tbody tr th {\n",
       "        vertical-align: top;\n",
       "    }\n",
       "\n",
       "    .dataframe thead th {\n",
       "        text-align: right;\n",
       "    }\n",
       "</style>\n",
       "<table border=\"1\" class=\"dataframe\">\n",
       "  <thead>\n",
       "    <tr style=\"text-align: right;\">\n",
       "      <th></th>\n",
       "      <th>name</th>\n",
       "      <th>brand</th>\n",
       "      <th>price</th>\n",
       "      <th>ingredients</th>\n",
       "      <th>rating</th>\n",
       "      <th>sub-category</th>\n",
       "      <th>category</th>\n",
       "      <th>benefit</th>\n",
       "    </tr>\n",
       "  </thead>\n",
       "  <tbody>\n",
       "    <tr>\n",
       "      <th>0</th>\n",
       "      <td>Biome Ultimate Indulging Cream</td>\n",
       "      <td>AXIS-Y</td>\n",
       "      <td>Rp229.000</td>\n",
       "      <td>Water, Glycerin, Betaine, Methylpropanediol, C...</td>\n",
       "      <td>4.9</td>\n",
       "      <td>Acne Cream</td>\n",
       "      <td>Treatment</td>\n",
       "      <td>meningkatkan elastisitas kulit, membuat kulit ...</td>\n",
       "    </tr>\n",
       "    <tr>\n",
       "      <th>1</th>\n",
       "      <td>SOS Acne Gel</td>\n",
       "      <td>BLP BEAUTY</td>\n",
       "      <td>Rp39.500</td>\n",
       "      <td>Water, Camellia Sinensis Leaf Extract, Butylen...</td>\n",
       "      <td>5.0</td>\n",
       "      <td>Acne Cream</td>\n",
       "      <td>Treatment</td>\n",
       "      <td>merawat jerawat secara efektif dan efisien tan...</td>\n",
       "    </tr>\n",
       "    <tr>\n",
       "      <th>2</th>\n",
       "      <td>Brightening Cream</td>\n",
       "      <td>FOCALSKIN</td>\n",
       "      <td>Rp120.320</td>\n",
       "      <td>AQUA, BUTYLENE GLYCOL, HYDROGENATED POLYISOBUT...</td>\n",
       "      <td>0.0</td>\n",
       "      <td>Acne Cream</td>\n",
       "      <td>Treatment</td>\n",
       "      <td>Mencerahkan wajah, Mengurangi kulit kusam, men...</td>\n",
       "    </tr>\n",
       "    <tr>\n",
       "      <th>3</th>\n",
       "      <td>Licorice Advanced Peeling Gel</td>\n",
       "      <td>NPURE</td>\n",
       "      <td>Rp65.000</td>\n",
       "      <td>Water, Glycerin, Cellulose, Dipropylene Glycol...</td>\n",
       "      <td>4.8</td>\n",
       "      <td>Acne Cream</td>\n",
       "      <td>Treatment</td>\n",
       "      <td>membantu mencerahkan kulit yang kusam, mengang...</td>\n",
       "    </tr>\n",
       "    <tr>\n",
       "      <th>4</th>\n",
       "      <td>Krim Penghilang Noda Bekas Jerawat Luka &amp; Stre...</td>\n",
       "      <td>BREYLEE</td>\n",
       "      <td>Rp100.000</td>\n",
       "      <td>Aqua, Glycerin, Centella Asiatica Extract, Arb...</td>\n",
       "      <td>4.5</td>\n",
       "      <td>Acne Cream</td>\n",
       "      <td>Treatment</td>\n",
       "      <td>menyamarkan bekas jerawat, C-Section, dan luka...</td>\n",
       "    </tr>\n",
       "  </tbody>\n",
       "</table>\n",
       "</div>"
      ],
      "text/plain": [
       "                                                name       brand      price  \\\n",
       "0                     Biome Ultimate Indulging Cream      AXIS-Y  Rp229.000   \n",
       "1                                       SOS Acne Gel  BLP BEAUTY   Rp39.500   \n",
       "2                                  Brightening Cream   FOCALSKIN  Rp120.320   \n",
       "3                      Licorice Advanced Peeling Gel       NPURE   Rp65.000   \n",
       "4  Krim Penghilang Noda Bekas Jerawat Luka & Stre...     BREYLEE  Rp100.000   \n",
       "\n",
       "                                         ingredients  rating sub-category  \\\n",
       "0  Water, Glycerin, Betaine, Methylpropanediol, C...     4.9   Acne Cream   \n",
       "1  Water, Camellia Sinensis Leaf Extract, Butylen...     5.0   Acne Cream   \n",
       "2  AQUA, BUTYLENE GLYCOL, HYDROGENATED POLYISOBUT...     0.0   Acne Cream   \n",
       "3  Water, Glycerin, Cellulose, Dipropylene Glycol...     4.8   Acne Cream   \n",
       "4  Aqua, Glycerin, Centella Asiatica Extract, Arb...     4.5   Acne Cream   \n",
       "\n",
       "    category                                            benefit  \n",
       "0  Treatment  meningkatkan elastisitas kulit, membuat kulit ...  \n",
       "1  Treatment  merawat jerawat secara efektif dan efisien tan...  \n",
       "2  Treatment  Mencerahkan wajah, Mengurangi kulit kusam, men...  \n",
       "3  Treatment  membantu mencerahkan kulit yang kusam, mengang...  \n",
       "4  Treatment  menyamarkan bekas jerawat, C-Section, dan luka...  "
      ]
     },
     "execution_count": 68,
     "metadata": {},
     "output_type": "execute_result"
    }
   ],
   "source": [
    "# Gabungkan semua data CSV menjadi satu DataFrame\n",
    "skincare = pd.concat(dataframes, ignore_index=True)\n",
    "\n",
    "# Cek hasilnya\n",
    "skincare.head()\n"
   ]
  },
  {
   "cell_type": "code",
   "execution_count": 69,
   "metadata": {},
   "outputs": [
    {
     "data": {
      "text/plain": [
       "(2820, 8)"
      ]
     },
     "execution_count": 69,
     "metadata": {},
     "output_type": "execute_result"
    }
   ],
   "source": [
    "skincare.shape"
   ]
  },
  {
   "cell_type": "code",
   "execution_count": 57,
   "metadata": {},
   "outputs": [
    {
     "name": "stdout",
     "output_type": "stream",
     "text": [
      "name            0\n",
      "brand           0\n",
      "price           0\n",
      "ingredients     0\n",
      "rating          0\n",
      "sub-category    0\n",
      "category        0\n",
      "benefit         0\n",
      "dtype: int64\n"
     ]
    }
   ],
   "source": [
    "print(skincare.isna().sum())\n"
   ]
  },
  {
   "cell_type": "code",
   "execution_count": 58,
   "metadata": {},
   "outputs": [
    {
     "name": "stdout",
     "output_type": "stream",
     "text": [
      "<class 'pandas.core.frame.DataFrame'>\n",
      "RangeIndex: 2820 entries, 0 to 2819\n",
      "Data columns (total 8 columns):\n",
      " #   Column        Non-Null Count  Dtype  \n",
      "---  ------        --------------  -----  \n",
      " 0   name          2820 non-null   object \n",
      " 1   brand         2820 non-null   object \n",
      " 2   price         2820 non-null   object \n",
      " 3   ingredients   2820 non-null   object \n",
      " 4   rating        2820 non-null   float64\n",
      " 5   sub-category  2820 non-null   object \n",
      " 6   category      2820 non-null   object \n",
      " 7   benefit       2820 non-null   object \n",
      "dtypes: float64(1), object(7)\n",
      "memory usage: 176.4+ KB\n"
     ]
    }
   ],
   "source": [
    "skincare.info()"
   ]
  },
  {
   "cell_type": "code",
   "execution_count": 70,
   "metadata": {},
   "outputs": [
    {
     "data": {
      "text/html": [
       "<div>\n",
       "<style scoped>\n",
       "    .dataframe tbody tr th:only-of-type {\n",
       "        vertical-align: middle;\n",
       "    }\n",
       "\n",
       "    .dataframe tbody tr th {\n",
       "        vertical-align: top;\n",
       "    }\n",
       "\n",
       "    .dataframe thead th {\n",
       "        text-align: right;\n",
       "    }\n",
       "</style>\n",
       "<table border=\"1\" class=\"dataframe\">\n",
       "  <thead>\n",
       "    <tr style=\"text-align: right;\">\n",
       "      <th></th>\n",
       "      <th>name</th>\n",
       "      <th>brand</th>\n",
       "      <th>price</th>\n",
       "      <th>ingredients</th>\n",
       "      <th>rating</th>\n",
       "      <th>sub-category</th>\n",
       "      <th>category</th>\n",
       "      <th>benefit</th>\n",
       "    </tr>\n",
       "  </thead>\n",
       "  <tbody>\n",
       "    <tr>\n",
       "      <th>0</th>\n",
       "      <td>Biome Ultimate Indulging Cream</td>\n",
       "      <td>AXIS-Y</td>\n",
       "      <td>229000</td>\n",
       "      <td>Water, Glycerin, Betaine, Methylpropanediol, C...</td>\n",
       "      <td>4.9</td>\n",
       "      <td>Acne Cream</td>\n",
       "      <td>Treatment</td>\n",
       "      <td>meningkatkan elastisitas kulit, membuat kulit ...</td>\n",
       "    </tr>\n",
       "    <tr>\n",
       "      <th>1</th>\n",
       "      <td>SOS Acne Gel</td>\n",
       "      <td>BLP BEAUTY</td>\n",
       "      <td>39500</td>\n",
       "      <td>Water, Camellia Sinensis Leaf Extract, Butylen...</td>\n",
       "      <td>5.0</td>\n",
       "      <td>Acne Cream</td>\n",
       "      <td>Treatment</td>\n",
       "      <td>merawat jerawat secara efektif dan efisien tan...</td>\n",
       "    </tr>\n",
       "    <tr>\n",
       "      <th>2</th>\n",
       "      <td>Brightening Cream</td>\n",
       "      <td>FOCALSKIN</td>\n",
       "      <td>120320</td>\n",
       "      <td>AQUA, BUTYLENE GLYCOL, HYDROGENATED POLYISOBUT...</td>\n",
       "      <td>0.0</td>\n",
       "      <td>Acne Cream</td>\n",
       "      <td>Treatment</td>\n",
       "      <td>Mencerahkan wajah, Mengurangi kulit kusam, men...</td>\n",
       "    </tr>\n",
       "    <tr>\n",
       "      <th>3</th>\n",
       "      <td>Licorice Advanced Peeling Gel</td>\n",
       "      <td>NPURE</td>\n",
       "      <td>65000</td>\n",
       "      <td>Water, Glycerin, Cellulose, Dipropylene Glycol...</td>\n",
       "      <td>4.8</td>\n",
       "      <td>Acne Cream</td>\n",
       "      <td>Treatment</td>\n",
       "      <td>membantu mencerahkan kulit yang kusam, mengang...</td>\n",
       "    </tr>\n",
       "    <tr>\n",
       "      <th>4</th>\n",
       "      <td>Krim Penghilang Noda Bekas Jerawat Luka &amp; Stre...</td>\n",
       "      <td>BREYLEE</td>\n",
       "      <td>100000</td>\n",
       "      <td>Aqua, Glycerin, Centella Asiatica Extract, Arb...</td>\n",
       "      <td>4.5</td>\n",
       "      <td>Acne Cream</td>\n",
       "      <td>Treatment</td>\n",
       "      <td>menyamarkan bekas jerawat, C-Section, dan luka...</td>\n",
       "    </tr>\n",
       "  </tbody>\n",
       "</table>\n",
       "</div>"
      ],
      "text/plain": [
       "                                                name       brand   price  \\\n",
       "0                     Biome Ultimate Indulging Cream      AXIS-Y  229000   \n",
       "1                                       SOS Acne Gel  BLP BEAUTY   39500   \n",
       "2                                  Brightening Cream   FOCALSKIN  120320   \n",
       "3                      Licorice Advanced Peeling Gel       NPURE   65000   \n",
       "4  Krim Penghilang Noda Bekas Jerawat Luka & Stre...     BREYLEE  100000   \n",
       "\n",
       "                                         ingredients  rating sub-category  \\\n",
       "0  Water, Glycerin, Betaine, Methylpropanediol, C...     4.9   Acne Cream   \n",
       "1  Water, Camellia Sinensis Leaf Extract, Butylen...     5.0   Acne Cream   \n",
       "2  AQUA, BUTYLENE GLYCOL, HYDROGENATED POLYISOBUT...     0.0   Acne Cream   \n",
       "3  Water, Glycerin, Cellulose, Dipropylene Glycol...     4.8   Acne Cream   \n",
       "4  Aqua, Glycerin, Centella Asiatica Extract, Arb...     4.5   Acne Cream   \n",
       "\n",
       "    category                                            benefit  \n",
       "0  Treatment  meningkatkan elastisitas kulit, membuat kulit ...  \n",
       "1  Treatment  merawat jerawat secara efektif dan efisien tan...  \n",
       "2  Treatment  Mencerahkan wajah, Mengurangi kulit kusam, men...  \n",
       "3  Treatment  membantu mencerahkan kulit yang kusam, mengang...  \n",
       "4  Treatment  menyamarkan bekas jerawat, C-Section, dan luka...  "
      ]
     },
     "execution_count": 70,
     "metadata": {},
     "output_type": "execute_result"
    }
   ],
   "source": [
    "import re\n",
    "\n",
    "# Fungsi untuk mengubah hanya harga pertama dari rentang\n",
    "def convert_currency(price):\n",
    "    price = str(price)\n",
    "\n",
    "    # Jika harga dalam rentang, ambil harga pertama sebelum '-'\n",
    "    if ' - ' in price:\n",
    "        price_first = price.split(' - ')[0]\n",
    "    else:\n",
    "        price_first = price  # Jika harga hanya satu (bukan rentang)\n",
    "    \n",
    "    # Menghapus karakter non-digit dan konversi ke angka\n",
    "    price_first = re.sub(r'\\D', '', price_first)\n",
    "    return int(price_first)\n",
    "\n",
    "# Terapkan fungsi ke kolom 'price'\n",
    "skincare['price'] = skincare['price'].apply(convert_currency)\n",
    "\n",
    "skincare.head()\n"
   ]
  },
  {
   "cell_type": "code",
   "execution_count": 72,
   "metadata": {},
   "outputs": [
    {
     "data": {
      "text/plain": [
       "6250"
      ]
     },
     "execution_count": 72,
     "metadata": {},
     "output_type": "execute_result"
    }
   ],
   "source": [
    "skincare['price'].min()"
   ]
  },
  {
   "cell_type": "code",
   "execution_count": 75,
   "metadata": {},
   "outputs": [],
   "source": [
    "# Simpan gabungan data ke file baru\n",
    "skincare.to_csv(\"D:\\Documents\\Tugas Akhir\\Recommender System\\skincare.csv\", index=False)"
   ]
  },
  {
   "cell_type": "code",
   "execution_count": 2,
   "metadata": {},
   "outputs": [],
   "source": [
    "import pandas as pd\n",
    "skincare = pd.read_csv(\"skincare.csv\")"
   ]
  },
  {
   "cell_type": "code",
   "execution_count": 12,
   "metadata": {},
   "outputs": [
    {
     "data": {
      "text/html": [
       "<div>\n",
       "<style scoped>\n",
       "    .dataframe tbody tr th:only-of-type {\n",
       "        vertical-align: middle;\n",
       "    }\n",
       "\n",
       "    .dataframe tbody tr th {\n",
       "        vertical-align: top;\n",
       "    }\n",
       "\n",
       "    .dataframe thead th {\n",
       "        text-align: right;\n",
       "    }\n",
       "</style>\n",
       "<table border=\"1\" class=\"dataframe\">\n",
       "  <thead>\n",
       "    <tr style=\"text-align: right;\">\n",
       "      <th></th>\n",
       "      <th>name</th>\n",
       "      <th>brand</th>\n",
       "      <th>price</th>\n",
       "      <th>ingredients</th>\n",
       "      <th>rating</th>\n",
       "      <th>sub-category</th>\n",
       "      <th>category</th>\n",
       "      <th>benefit</th>\n",
       "    </tr>\n",
       "  </thead>\n",
       "  <tbody>\n",
       "    <tr>\n",
       "      <th>0</th>\n",
       "      <td>Biome Ultimate Indulging Cream</td>\n",
       "      <td>AXIS-Y</td>\n",
       "      <td>229000</td>\n",
       "      <td>Water, Glycerin, Betaine, Methylpropanediol, C...</td>\n",
       "      <td>4.9</td>\n",
       "      <td>Acne Cream</td>\n",
       "      <td>Treatment</td>\n",
       "      <td>meningkatkan elastisitas kulit, membuat kulit ...</td>\n",
       "    </tr>\n",
       "    <tr>\n",
       "      <th>1</th>\n",
       "      <td>SOS Acne Gel</td>\n",
       "      <td>BLP BEAUTY</td>\n",
       "      <td>39500</td>\n",
       "      <td>Water, Camellia Sinensis Leaf Extract, Butylen...</td>\n",
       "      <td>5.0</td>\n",
       "      <td>Acne Cream</td>\n",
       "      <td>Treatment</td>\n",
       "      <td>merawat jerawat secara efektif dan efisien tan...</td>\n",
       "    </tr>\n",
       "    <tr>\n",
       "      <th>2</th>\n",
       "      <td>Brightening Cream</td>\n",
       "      <td>FOCALSKIN</td>\n",
       "      <td>120320</td>\n",
       "      <td>AQUA, BUTYLENE GLYCOL, HYDROGENATED POLYISOBUT...</td>\n",
       "      <td>0.0</td>\n",
       "      <td>Acne Cream</td>\n",
       "      <td>Treatment</td>\n",
       "      <td>Mencerahkan wajah, Mengurangi kulit kusam, men...</td>\n",
       "    </tr>\n",
       "    <tr>\n",
       "      <th>3</th>\n",
       "      <td>Licorice Advanced Peeling Gel</td>\n",
       "      <td>NPURE</td>\n",
       "      <td>65000</td>\n",
       "      <td>Water, Glycerin, Cellulose, Dipropylene Glycol...</td>\n",
       "      <td>4.8</td>\n",
       "      <td>Acne Cream</td>\n",
       "      <td>Treatment</td>\n",
       "      <td>membantu mencerahkan kulit yang kusam, mengang...</td>\n",
       "    </tr>\n",
       "    <tr>\n",
       "      <th>4</th>\n",
       "      <td>Krim Penghilang Noda Bekas Jerawat Luka &amp; Stre...</td>\n",
       "      <td>BREYLEE</td>\n",
       "      <td>100000</td>\n",
       "      <td>Aqua, Glycerin, Centella Asiatica Extract, Arb...</td>\n",
       "      <td>4.5</td>\n",
       "      <td>Acne Cream</td>\n",
       "      <td>Treatment</td>\n",
       "      <td>menyamarkan bekas jerawat, C-Section, dan luka...</td>\n",
       "    </tr>\n",
       "  </tbody>\n",
       "</table>\n",
       "</div>"
      ],
      "text/plain": [
       "                                                name       brand   price  \\\n",
       "0                     Biome Ultimate Indulging Cream      AXIS-Y  229000   \n",
       "1                                       SOS Acne Gel  BLP BEAUTY   39500   \n",
       "2                                  Brightening Cream   FOCALSKIN  120320   \n",
       "3                      Licorice Advanced Peeling Gel       NPURE   65000   \n",
       "4  Krim Penghilang Noda Bekas Jerawat Luka & Stre...     BREYLEE  100000   \n",
       "\n",
       "                                         ingredients  rating sub-category  \\\n",
       "0  Water, Glycerin, Betaine, Methylpropanediol, C...     4.9   Acne Cream   \n",
       "1  Water, Camellia Sinensis Leaf Extract, Butylen...     5.0   Acne Cream   \n",
       "2  AQUA, BUTYLENE GLYCOL, HYDROGENATED POLYISOBUT...     0.0   Acne Cream   \n",
       "3  Water, Glycerin, Cellulose, Dipropylene Glycol...     4.8   Acne Cream   \n",
       "4  Aqua, Glycerin, Centella Asiatica Extract, Arb...     4.5   Acne Cream   \n",
       "\n",
       "    category                                            benefit  \n",
       "0  Treatment  meningkatkan elastisitas kulit, membuat kulit ...  \n",
       "1  Treatment  merawat jerawat secara efektif dan efisien tan...  \n",
       "2  Treatment  Mencerahkan wajah, Mengurangi kulit kusam, men...  \n",
       "3  Treatment  membantu mencerahkan kulit yang kusam, mengang...  \n",
       "4  Treatment  menyamarkan bekas jerawat, C-Section, dan luka...  "
      ]
     },
     "execution_count": 12,
     "metadata": {},
     "output_type": "execute_result"
    }
   ],
   "source": [
    "skincare.head()"
   ]
  },
  {
   "cell_type": "markdown",
   "metadata": {},
   "source": [
    "### Statistika Deskriptif"
   ]
  },
  {
   "cell_type": "code",
   "execution_count": 77,
   "metadata": {},
   "outputs": [
    {
     "name": "stderr",
     "output_type": "stream",
     "text": [
      "C:\\Users\\Euis\\AppData\\Local\\Temp\\ipykernel_11240\\2615571184.py:9: FutureWarning: \n",
      "\n",
      "Passing `palette` without assigning `hue` is deprecated and will be removed in v0.14.0. Assign the `x` variable to `hue` and set `legend=False` for the same effect.\n",
      "\n",
      "  sns.barplot(x=sub_cat_count.index, y=sub_cat_count.values, palette='viridis')\n"
     ]
    },
    {
     "data": {
      "image/png": "[encoded data removed]",
      "text/plain": [
       "<Figure size 800x400 with 1 Axes>"
      ]
     },
     "metadata": {},
     "output_type": "display_data"
    }
   ],
   "source": [
    "import matplotlib.pyplot as plt\n",
    "import seaborn as sns\n",
    "\n",
    "# Hitung jumlah produk per sub kategori\n",
    "sub_cat_count = skincare['sub-category'].value_counts()\n",
    "\n",
    "# Plot bar chart\n",
    "plt.figure(figsize=(8, 4))\n",
    "sns.barplot(x=sub_cat_count.index, y=sub_cat_count.values, palette='viridis')\n",
    "plt.xlabel('Sub Kategori')\n",
    "plt.ylabel('Jumlah Produk')\n",
    "plt.xticks(rotation=45, ha='right')\n",
    "plt.show()"
   ]
  },
  {
   "cell_type": "code",
   "execution_count": 78,
   "metadata": {},
   "outputs": [
    {
     "data": {
      "image/png": "[encoded data removed]",
      "text/plain": [
       "<Figure size 500x300 with 1 Axes>"
      ]
     },
     "metadata": {},
     "output_type": "display_data"
    }
   ],
   "source": [
    "# Plot histogram rating\n",
    "plt.figure(figsize=(5, 3))\n",
    "sns.histplot(skincare['rating'], bins=5, kde=True, color='skyblue')\n",
    "plt.xlabel('Rating')\n",
    "plt.ylabel('Frekuensi')\n",
    "plt.show()"
   ]
  },
  {
   "cell_type": "code",
   "execution_count": 79,
   "metadata": {},
   "outputs": [
    {
     "name": "stderr",
     "output_type": "stream",
     "text": [
      "C:\\Users\\Euis\\AppData\\Local\\Temp\\ipykernel_11240\\1625285020.py:4: FutureWarning: \n",
      "\n",
      "Passing `palette` without assigning `hue` is deprecated and will be removed in v0.14.0. Assign the `x` variable to `hue` and set `legend=False` for the same effect.\n",
      "\n",
      "  ax = sns.boxplot(x='category', y='price', data=skincare, palette='muted')\n"
     ]
    },
    {
     "data": {
      "image/png": "[encoded data removed]",
      "text/plain": [
       "<Figure size 800x500 with 1 Axes>"
      ]
     },
     "metadata": {},
     "output_type": "display_data"
    }
   ],
   "source": [
    "import matplotlib.ticker as mticker\n",
    "\n",
    "plt.figure(figsize=(8, 5))\n",
    "ax = sns.boxplot(x='category', y='price', data=skincare, palette='muted')\n",
    "\n",
    "# Format sumbu Y ke dalam format rupiah\n",
    "ax.yaxis.set_major_formatter(mticker.FuncFormatter(lambda x, _: f'Rp{x:,.0f}'))\n",
    "\n",
    "# Tambahkan lebih banyak tick marks di sumbu Y\n",
    "ax.yaxis.set_major_locator(mticker.MultipleLocator(100000)) \n",
    "\n",
    "# Tambahkan label dan title\n",
    "plt.xlabel('Kategori Skincare')\n",
    "plt.ylabel('Harga')\n",
    "\n",
    "# Rotasi label kategori supaya tidak bertumpuk\n",
    "plt.xticks(rotation=45)\n",
    "\n",
    "plt.show()\n"
   ]
  },
  {
   "cell_type": "code",
   "execution_count": 80,
   "metadata": {},
   "outputs": [
    {
     "data": {
      "image/png": "[encoded data removed]",
      "text/plain": [
       "<Figure size 600x500 with 1 Axes>"
      ]
     },
     "metadata": {},
     "output_type": "display_data"
    }
   ],
   "source": [
    "plt.figure(figsize=(6, 5))\n",
    "category_counts = skincare['category'].value_counts()\n",
    "category_percentages = category_counts / category_counts.sum() * 100\n",
    "\n",
    "plt.pie(category_percentages, labels=category_counts.index, autopct='%1.1f%%', colors=sns.color_palette('pastel'))\n",
    "plt.show()"
   ]
  },
  {
   "cell_type": "markdown",
   "metadata": {},
   "source": [
    "### Data Preprocessing"
   ]
  },
  {
   "cell_type": "markdown",
   "metadata": {},
   "source": [
    "1. Gabungkan kolom sub-category dengan benefit\n",
    "2. mengubah teks menjadi lower case\n",
    "3. menghapus karakter, tanda baca, angka yang tidak digunakan\n",
    "4. melakukan tokenizing\n",
    "5. menghapus stopword\n",
    "6. steaming\n",
    "7. lakukan langkah 2-4 pada kolom ingredients"
   ]
  },
  {
   "cell_type": "code",
   "execution_count": 81,
   "metadata": {},
   "outputs": [],
   "source": [
    "import re\n",
    "import pandas as pd\n",
    "\n",
    "# Fungsi preprocessing yang benar\n",
    "def preprocess_text(text):\n",
    "    if pd.isna(text):  # Cek apakah nilai NaN\n",
    "        return \"\"  # Kembalikan string kosong jika NaN\n",
    "    text = text.lower()  # Ubah menjadi huruf kecil\n",
    "    text = re.sub(r'[^\\w\\s]', ' ', text)  # Ganti tanda baca dengan spasi\n",
    "    text = re.sub(r'\\d+', '', text)  # Hapus angka\n",
    "    text = re.sub(r'\\s+', ' ', text).strip()  # Hapus double space dan spasi di awal/akhir\n",
    "    return text\n",
    "\n",
    "# Terapkan ke kolom 'benefit' dan simpan di 'benefit_clean'\n",
    "skincare['benefit_clean'] = skincare['benefit'].apply(preprocess_text)\n"
   ]
  },
  {
   "cell_type": "code",
   "execution_count": 82,
   "metadata": {},
   "outputs": [
    {
     "data": {
      "text/html": [
       "<div>\n",
       "<style scoped>\n",
       "    .dataframe tbody tr th:only-of-type {\n",
       "        vertical-align: middle;\n",
       "    }\n",
       "\n",
       "    .dataframe tbody tr th {\n",
       "        vertical-align: top;\n",
       "    }\n",
       "\n",
       "    .dataframe thead th {\n",
       "        text-align: right;\n",
       "    }\n",
       "</style>\n",
       "<table border=\"1\" class=\"dataframe\">\n",
       "  <thead>\n",
       "    <tr style=\"text-align: right;\">\n",
       "      <th></th>\n",
       "      <th>benefit</th>\n",
       "      <th>benefit_clean</th>\n",
       "    </tr>\n",
       "  </thead>\n",
       "  <tbody>\n",
       "    <tr>\n",
       "      <th>0</th>\n",
       "      <td>meningkatkan elastisitas kulit, membuat kulit ...</td>\n",
       "      <td>meningkatkan elastisitas kulit membuat kulit l...</td>\n",
       "    </tr>\n",
       "    <tr>\n",
       "      <th>1</th>\n",
       "      <td>merawat jerawat secara efektif dan efisien tan...</td>\n",
       "      <td>merawat jerawat secara efektif dan efisien tan...</td>\n",
       "    </tr>\n",
       "    <tr>\n",
       "      <th>2</th>\n",
       "      <td>Mencerahkan wajah, Mengurangi kulit kusam, men...</td>\n",
       "      <td>mencerahkan wajah mengurangi kulit kusam mengu...</td>\n",
       "    </tr>\n",
       "    <tr>\n",
       "      <th>3</th>\n",
       "      <td>membantu mencerahkan kulit yang kusam, mengang...</td>\n",
       "      <td>membantu mencerahkan kulit yang kusam mengangk...</td>\n",
       "    </tr>\n",
       "    <tr>\n",
       "      <th>4</th>\n",
       "      <td>menyamarkan bekas jerawat, C-Section, dan luka...</td>\n",
       "      <td>menyamarkan bekas jerawat c section dan luka o...</td>\n",
       "    </tr>\n",
       "  </tbody>\n",
       "</table>\n",
       "</div>"
      ],
      "text/plain": [
       "                                             benefit  \\\n",
       "0  meningkatkan elastisitas kulit, membuat kulit ...   \n",
       "1  merawat jerawat secara efektif dan efisien tan...   \n",
       "2  Mencerahkan wajah, Mengurangi kulit kusam, men...   \n",
       "3  membantu mencerahkan kulit yang kusam, mengang...   \n",
       "4  menyamarkan bekas jerawat, C-Section, dan luka...   \n",
       "\n",
       "                                       benefit_clean  \n",
       "0  meningkatkan elastisitas kulit membuat kulit l...  \n",
       "1  merawat jerawat secara efektif dan efisien tan...  \n",
       "2  mencerahkan wajah mengurangi kulit kusam mengu...  \n",
       "3  membantu mencerahkan kulit yang kusam mengangk...  \n",
       "4  menyamarkan bekas jerawat c section dan luka o...  "
      ]
     },
     "execution_count": 82,
     "metadata": {},
     "output_type": "execute_result"
    }
   ],
   "source": [
    "skincare[['benefit', 'benefit_clean']].head()"
   ]
  },
  {
   "cell_type": "code",
   "execution_count": null,
   "metadata": {},
   "outputs": [],
   "source": [
    "pip install nltk"
   ]
  },
  {
   "cell_type": "code",
   "execution_count": 5,
   "metadata": {},
   "outputs": [
    {
     "name": "stderr",
     "output_type": "stream",
     "text": [
      "[nltk_data] Downloading package punkt to\n",
      "[nltk_data]     C:\\Users\\Euis\\AppData\\Roaming\\nltk_data...\n",
      "[nltk_data]   Package punkt is already up-to-date!\n",
      "[nltk_data] Downloading package punkt_tab to\n",
      "[nltk_data]     C:\\Users\\Euis\\AppData\\Roaming\\nltk_data...\n",
      "[nltk_data]   Package punkt_tab is already up-to-date!\n"
     ]
    }
   ],
   "source": [
    "import nltk\n",
    "from nltk.tokenize import word_tokenize\n",
    "\n",
    "# Download resource yang diperlukan jika belum ada\n",
    "nltk.download('punkt')\n",
    "nltk.download('punkt_tab')\n",
    "\n",
    "# Tokenisasi kolom 'benefit_clean' pada DataFrame skincare\n",
    "skincare['benefit_clean'] = skincare['benefit_clean'].apply(lambda x: word_tokenize(str(x)))\n"
   ]
  },
  {
   "cell_type": "code",
   "execution_count": null,
   "metadata": {},
   "outputs": [],
   "source": [
    "skincare['benefit_clean']"
   ]
  },
  {
   "cell_type": "code",
   "execution_count": 5,
   "metadata": {},
   "outputs": [
    {
     "name": "stderr",
     "output_type": "stream",
     "text": [
      "[nltk_data] Downloading package stopwords to\n",
      "[nltk_data]     C:\\Users\\Euis\\AppData\\Roaming\\nltk_data...\n",
      "[nltk_data]   Package stopwords is already up-to-date!\n"
     ]
    },
    {
     "name": "stdout",
     "output_type": "stream",
     "text": [
      "0    [meningkatkan, elastisitas, kulit, kulit, berk...\n",
      "1    [merawat, jerawat, efektif, efisien, tanpa, me...\n",
      "2    [mencerahkan, wajah, mengurangi, kulit, kusam,...\n",
      "3    [membantu, mencerahkan, kulit, kusam, mengangk...\n",
      "4    [menyamarkan, bekas, jerawat, c, section, luka...\n",
      "Name: benefit_clean, dtype: object\n"
     ]
    }
   ],
   "source": [
    "import nltk\n",
    "from nltk.corpus import stopwords\n",
    "\n",
    "# Download stopwords jika belum ada\n",
    "nltk.download('stopwords')\n",
    "\n",
    "# Daftar stopwords bahasa Indonesia dan Inggris\n",
    "indo = stopwords.words('indonesian')\n",
    "eng = stopwords.words('english')\n",
    "\n",
    "# Gabungkan daftar stopwords bahasa Indonesia dan Inggris\n",
    "list_stopwords = indo\n",
    "list_stopwords.extend(eng)\n",
    "\n",
    "# Daftar kata yang akan dikecualikan dari stopwords\n",
    "exclude_words = ['tidak', 'tanpa']\n",
    "\n",
    "# Fungsi untuk menghapus stopwords dari list token dengan pengecualian\n",
    "def stopwords_removal(words):\n",
    "    return [word for word in words if word not in list_stopwords or word in exclude_words]\n",
    "\n",
    "# Terapkan stopword removal pada kolom 'benefit_clean' setelah tokenisasi\n",
    "skincare['benefit_clean'] = skincare['benefit_clean'].apply(lambda x: stopwords_removal(x))\n",
    "\n",
    "# Cek hasilnya\n",
    "print(skincare['benefit_clean'].head())\n"
   ]
  },
  {
   "cell_type": "code",
   "execution_count": null,
   "metadata": {},
   "outputs": [],
   "source": [
    "pip install swifter"
   ]
  },
  {
   "cell_type": "code",
   "execution_count": 32,
   "metadata": {},
   "outputs": [
    {
     "name": "stderr",
     "output_type": "stream",
     "text": [
      "C:\\Users\\Euis\\AppData\\Local\\Temp\\ipykernel_12172\\1821765710.py:2: FutureWarning: using <function <lambda> at 0x000001144BBCF7F0> in Series.agg cannot aggregate and has been deprecated. Use Series.transform to keep behavior unchanged.\n",
      "  skincare['benefit_clean'] = skincare['benefit_clean'].agg(lambda x: ' '.join(x))\n"
     ]
    }
   ],
   "source": [
    "# Mengubah list pada kolom 'benefit_clean' menjadi string\n",
    "skincare['benefit_clean'] = skincare['benefit_clean'].agg(lambda x: ' '.join(x))"
   ]
  },
  {
   "cell_type": "code",
   "execution_count": 6,
   "metadata": {},
   "outputs": [
    {
     "name": "stderr",
     "output_type": "stream",
     "text": [
      "c:\\Users\\Euis\\AppData\\Local\\Programs\\Python\\Python310\\lib\\site-packages\\tqdm\\auto.py:21: TqdmWarning: IProgress not found. Please update jupyter and ipywidgets. See https://ipywidgets.readthedocs.io/en/stable/user_install.html\n",
      "  from .autonotebook import tqdm as notebook_tqdm\n",
      "Pandas Apply: 100%|██████████| 2820/2820 [00:00<00:00, 131984.66it/s]"
     ]
    },
    {
     "name": "stdout",
     "output_type": "stream",
     "text": [
      "0    tingkat elastisitas kulit buat kulit lebih kil...\n",
      "1    rawat jerawat cara efektif dan efisien tanpa t...\n",
      "2    cerah wajah kurang kulit kusam kurang bintik b...\n",
      "3    bantu cerah kulit yang kusam angkat sel kulit ...\n",
      "4    samar bekas jerawat c section dan luka operasi...\n",
      "Name: benefit_clean, dtype: object\n"
     ]
    },
    {
     "name": "stderr",
     "output_type": "stream",
     "text": [
      "\n"
     ]
    }
   ],
   "source": [
    "from Sastrawi.Stemmer.StemmerFactory import StemmerFactory\n",
    "import swifter\n",
    "\n",
    "# Membuat objek stemmer\n",
    "factory = StemmerFactory()\n",
    "stemmer = factory.create_stemmer()\n",
    "\n",
    "# Fungsi untuk stemming setiap kata\n",
    "def stemmed_wrapper(term):\n",
    "    return stemmer.stem(term)\n",
    "\n",
    "# Mendapatkan daftar kata (unique terms) pada kolom 'benefit_clean'\n",
    "term_dict = {}\n",
    "\n",
    "# Iterasi untuk menambah kata ke dalam term_dict\n",
    "for document in skincare['benefit_clean']:\n",
    "    for term in document:\n",
    "        if term not in term_dict:\n",
    "            term_dict[term] = ' '\n",
    "\n",
    "# Melakukan stemming pada setiap kata dalam term_dict\n",
    "for term in term_dict:\n",
    "    term_dict[term] = stemmed_wrapper(term)\n",
    "\n",
    "# Terapkan stemming pada kolom 'benefit_clean' di DataFrame\n",
    "def get_stemmed_term(document):\n",
    "    return [term_dict[term] for term in document]\n",
    "\n",
    "# Terapkan fungsi stemming pada kolom 'benefit_clean' dengan swifter untuk mempercepat\n",
    "skincare['benefit_clean'] = skincare['benefit_clean'].swifter.apply(get_stemmed_term)\n",
    "\n",
    "# Mengubah list pada kolom 'benefit_clean' menjadi string\n",
    "skincare['benefit_clean'] = skincare['benefit_clean'].agg(lambda x: ' '.join(x))\n",
    "\n",
    "# Cek hasilnya\n",
    "print(skincare['benefit_clean'].head())\n"
   ]
  },
  {
   "cell_type": "code",
   "execution_count": null,
   "metadata": {},
   "outputs": [],
   "source": [
    "# Setel agar kolom dapat menampilkan teks yang lebih panjang\n",
    "pd.set_option('display.max_colwidth', None)\n",
    "\n",
    "# Cek DataFrame\n",
    "print(skincare['benefit_clean'])\n"
   ]
  },
  {
   "cell_type": "code",
   "execution_count": 7,
   "metadata": {},
   "outputs": [
    {
     "data": {
      "text/plain": [
       "(2820, 1476)"
      ]
     },
     "execution_count": 7,
     "metadata": {},
     "output_type": "execute_result"
    }
   ],
   "source": [
    "# libraries for Recommendation System   \n",
    "from sklearn.feature_extraction.text import TfidfVectorizer   \n",
    "    \n",
    "# TF-IDF Vectorizer   \n",
    "tfidf_manfaat = TfidfVectorizer()   \n",
    "      \n",
    "# membangun matriks TF-IDF     \n",
    "tfidf_matrix_manfaat = tfidf_manfaat.fit_transform(skincare['benefit_clean'])     \n",
    "      \n",
    "# output the shape of tfidf_matrix     \n",
    "tfidf_matrix_manfaat.shape "
   ]
  },
  {
   "cell_type": "code",
   "execution_count": 16,
   "metadata": {},
   "outputs": [
    {
     "name": "stdout",
     "output_type": "stream",
     "text": [
      "      abur  acid  acne  acnes  activating  acwell  adang  afterfeel  agam  \\\n",
      "2815   0.0   0.0   0.0    0.0         0.0     0.0    0.0        0.0   0.0   \n",
      "2816   0.0   0.0   0.0    0.0         0.0     0.0    0.0        0.0   0.0   \n",
      "2817   0.0   0.0   0.0    0.0         0.0     0.0    0.0        0.0   0.0   \n",
      "2818   0.0   0.0   0.0    0.0         0.0     0.0    0.0        0.0   0.0   \n",
      "2819   0.0   0.0   0.0    0.0         0.0     0.0    0.0        0.0   0.0   \n",
      "\n",
      "      age  ...  whiteheads  whitening  willow  wood  wrinkle  yanpa   yg  zat  \\\n",
      "2815  0.0  ...         0.0        0.0     0.0   0.0      0.0    0.0  0.0  0.0   \n",
      "2816  0.0  ...         0.0        0.0     0.0   0.0      0.0    0.0  0.0  0.0   \n",
      "2817  0.0  ...         0.0        0.0     0.0   0.0      0.0    0.0  0.0  0.0   \n",
      "2818  0.0  ...         0.0        0.0     0.0   0.0      0.0    0.0  0.0  0.0   \n",
      "2819  0.0  ...         0.0        0.0     0.0   0.0      0.0    0.0  0.0  0.0   \n",
      "\n",
      "      zero  zona  \n",
      "2815   0.0   0.0  \n",
      "2816   0.0   0.0  \n",
      "2817   0.0   0.0  \n",
      "2818   0.0   0.0  \n",
      "2819   0.0   0.0  \n",
      "\n",
      "[5 rows x 1351 columns]\n"
     ]
    }
   ],
   "source": [
    "import pandas as pd\n",
    "\n",
    "# Mengonversi TF-IDF matriks menjadi DataFrame\n",
    "tfidf_df = pd.DataFrame(tfidf_matrix_manfaat.toarray(), columns=tfidf_manfaat.get_feature_names_out())\n",
    "\n",
    "# Menampilkan 5 baris pertama dari DataFrame\n",
    "print(tfidf_df.tail())\n"
   ]
  },
  {
   "cell_type": "code",
   "execution_count": 14,
   "metadata": {},
   "outputs": [],
   "source": [
    "# Export DataFrame ke CSV\n",
    "df_word_freq.to_csv(\"word_frequencies.csv\", index=False)\n"
   ]
  },
  {
   "cell_type": "code",
   "execution_count": 17,
   "metadata": {},
   "outputs": [
    {
     "name": "stdout",
     "output_type": "stream",
     "text": [
      "['abur' 'acid' 'acne' ... 'zat' 'zero' 'zona']\n"
     ]
    }
   ],
   "source": [
    "# Mendapatkan daftar fitur (kata) yang unik yang digunakan oleh TF-IDF\n",
    "features = tfidf_manfaat.get_feature_names_out()\n",
    "\n",
    "# Menampilkan semua kata yang unik\n",
    "print(features)\n"
   ]
  },
  {
   "cell_type": "code",
   "execution_count": 43,
   "metadata": {},
   "outputs": [],
   "source": [
    "# Simpan fitur ke dalam file .txt\n",
    "with open(\"unique_words.txt\", \"w\", encoding=\"utf-8\") as f:\n",
    "    for feature in tfidf.get_feature_names_out():\n",
    "        f.write(feature + \"\\n\")\n",
    "\n"
   ]
  },
  {
   "cell_type": "code",
   "execution_count": 18,
   "metadata": {},
   "outputs": [
    {
     "name": "stdout",
     "output_type": "stream",
     "text": [
      "['aacrylates' 'aacrylates alkyl' 'aativa' ... 'ziziphus jujuba'\n",
      " 'zymomonas' 'zymomonas ferment']\n"
     ]
    }
   ],
   "source": [
    "import pandas as pd\n",
    "import re\n",
    "import unicodedata\n",
    "from sklearn.feature_extraction.text import TfidfVectorizer\n",
    "\n",
    "# Fungsi untuk membersihkan karakter sesuai dengan kebutuhan\n",
    "def custom_preprocess(text):\n",
    "    if pd.isna(text):  # Jika NaN, ganti dengan string kosong\n",
    "        return \"\"\n",
    "    \n",
    "    # Normalisasi Unicode untuk menghilangkan karakter encoding yang aneh\n",
    "    text = unicodedata.normalize('NFKD', text)\n",
    "    \n",
    "    # Ubah menjadi huruf kecil\n",
    "    text = text.lower()\n",
    "\n",
    "    # Hapus semua simbol/karakter/tanda baca dan angka\n",
    "    text = re.sub(r'[^\\w\\s]', ' ', text)  # Ganti tanda baca (karakter selain huruf dan spasi) dengan spasi\n",
    "    text = re.sub(r'\\d+', '', text)  # Hapus angka\n",
    "\n",
    "    # Hapus double space dan spasi di awal/akhir\n",
    "    text = re.sub(r'\\s+', ' ', text).strip()  # Mengubah double space menjadi single space dan menghapus spasi di awal/akhir\n",
    "    \n",
    "    return text\n",
    "\n",
    "# Terapkan preprocessing ke kolom 'ingredients'\n",
    "skincare['ingredients_clean'] = skincare['ingredients'].apply(custom_preprocess)\n",
    "\n",
    "# Gunakan TF-IDF untuk mengubah data teks menjadi matriks\n",
    "tfidf_ingredients = TfidfVectorizer(ngram_range=(1, 2))  # Menggunakan unigram dan bigram\n",
    "tfidf_matrix_ingredients = tfidf_ingredients.fit_transform(skincare['ingredients_clean'])\n",
    "\n",
    "# Tampilkan fitur hasil TF-IDF\n",
    "print(tfidf_ingredients.get_feature_names_out())\n"
   ]
  },
  {
   "cell_type": "code",
   "execution_count": 19,
   "metadata": {},
   "outputs": [
    {
     "name": "stdout",
     "output_type": "stream",
     "text": [
      "   aacrylates  aacrylates alkyl  aativa  aativa meal  abcorbyl  \\\n",
      "0         0.0               0.0     0.0          0.0       0.0   \n",
      "1         0.0               0.0     0.0          0.0       0.0   \n",
      "2         0.0               0.0     0.0          0.0       0.0   \n",
      "3         0.0               0.0     0.0          0.0       0.0   \n",
      "4         0.0               0.0     0.0          0.0       0.0   \n",
      "\n",
      "   abcorbyl glucoside  abeille  abeille lanolin  abeille triglycerides  \\\n",
      "0                 0.0      0.0              0.0                    0.0   \n",
      "1                 0.0      0.0              0.0                    0.0   \n",
      "2                 0.0      0.0              0.0                    0.0   \n",
      "3                 0.0      0.0              0.0                    0.0   \n",
      "4                 0.0      0.0              0.0                    0.0   \n",
      "\n",
      "   abelmoschus  ...  zingiber  zingiber officinal  zingiber officinale  \\\n",
      "0          0.0  ...       0.0                 0.0                  0.0   \n",
      "1          0.0  ...       0.0                 0.0                  0.0   \n",
      "2          0.0  ...       0.0                 0.0                  0.0   \n",
      "3          0.0  ...       0.0                 0.0                  0.0   \n",
      "4          0.0  ...       0.0                 0.0                  0.0   \n",
      "\n",
      "   zingiber ofi  zizanoides  zizanoides root  ziziphus  ziziphus jujuba  \\\n",
      "0           0.0         0.0              0.0       0.0              0.0   \n",
      "1           0.0         0.0              0.0       0.0              0.0   \n",
      "2           0.0         0.0              0.0       0.0              0.0   \n",
      "3           0.0         0.0              0.0       0.0              0.0   \n",
      "4           0.0         0.0              0.0       0.0              0.0   \n",
      "\n",
      "   zymomonas  zymomonas ferment  \n",
      "0        0.0                0.0  \n",
      "1        0.0                0.0  \n",
      "2        0.0                0.0  \n",
      "3        0.0                0.0  \n",
      "4        0.0                0.0  \n",
      "\n",
      "[5 rows x 34708 columns]\n"
     ]
    }
   ],
   "source": [
    "import pandas as pd\n",
    "\n",
    "# Mengonversi TF-IDF matriks menjadi DataFrame\n",
    "tfidf_df = pd.DataFrame(tfidf_matrix_ingredients.toarray(), columns=tfidf_ingredients.get_feature_names_out())\n",
    "\n",
    "# Menampilkan 5 baris pertama dari DataFrame\n",
    "print(tfidf_df.head())"
   ]
  },
  {
   "cell_type": "code",
   "execution_count": 33,
   "metadata": {},
   "outputs": [],
   "source": [
    "from sklearn.preprocessing import OneHotEncoder\n",
    "from scipy.sparse import hstack\n",
    "\n",
    "# Buat One-Hot Encoding untuk sub-category\n",
    "encoder = OneHotEncoder(handle_unknown='ignore')\n",
    "subcategory_encoded = encoder.fit_transform(skincare[['sub-category']])  \n",
    "\n",
    "\n"
   ]
  },
  {
   "cell_type": "code",
   "execution_count": 34,
   "metadata": {},
   "outputs": [],
   "source": [
    "# Gabungkan ketiga matriks untuk menjadi satu representasi fitur\n",
    "from scipy.sparse import hstack\n",
    "\n",
    "tfidf_matrix_combined = hstack([subcategory_encoded, tfidf_matrix_ingredients, tfidf_matrix_manfaat])\n"
   ]
  },
  {
   "cell_type": "code",
   "execution_count": 44,
   "metadata": {},
   "outputs": [
    {
     "name": "stderr",
     "output_type": "stream",
     "text": [
      "c:\\Users\\Euis\\AppData\\Local\\Programs\\Python\\Python310\\lib\\site-packages\\sklearn\\base.py:493: UserWarning: X does not have valid feature names, but OneHotEncoder was fitted with feature names\n",
      "  warnings.warn(\n"
     ]
    }
   ],
   "source": [
    "# Misalnya, input user:\n",
    "user_subcategory = 'Face Cream'\n",
    "user_ingredients = 'centella asiaica'\n",
    "user_benefits = 'Membersihkan, Menyegarkan'\n",
    "\n",
    "# Gabungkan input user ke dalam format yang sama dengan data produk\n",
    "user_input = user_ingredients + \" \" + user_benefits\n",
    "\n",
    "# Preprocessing input user (menggunakan fungsi custom preprocess)\n",
    "user_input_cleaned = custom_preprocess(user_input)\n",
    "\n",
    "# Terapkan TF-IDF untuk input user (gunakan vectorizer yang sama dengan produk)\n",
    "user_subcategory_encoded = encoder.transform([[user_subcategory]])\n",
    "user_tfidf_ingredients = tfidf_ingredients.transform([user_input_cleaned])\n",
    "user_tfidf_manfaat = tfidf_manfaat.transform([user_input_cleaned])\n",
    "\n",
    "# Gabungkan hasil TF-IDF input user\n",
    "user_tfidf_combined = hstack([user_subcategory_encoded, user_tfidf_ingredients, user_tfidf_manfaat])\n"
   ]
  },
  {
   "cell_type": "code",
   "execution_count": 45,
   "metadata": {},
   "outputs": [
    {
     "name": "stdout",
     "output_type": "stream",
     "text": [
      "[[2.43712639 2.44948974 2.43660794 ... 2.44948974 2.44948974 2.44948974]]\n"
     ]
    }
   ],
   "source": [
    "from sklearn.metrics.pairwise import euclidean_distances\n",
    "\n",
    "# Hitung Euclidean distance antara input user dan produk\n",
    "euclidean_dist = euclidean_distances(user_tfidf_combined, tfidf_matrix_combined)\n",
    "\n",
    "# Tampilkan jarak dari input user ke semua produk\n",
    "print(euclidean_dist)"
   ]
  },
  {
   "cell_type": "code",
   "execution_count": 46,
   "metadata": {},
   "outputs": [
    {
     "name": "stdout",
     "output_type": "stream",
     "text": [
      "                                      name         brand  price  \\\n",
      "807         Calming Moisture Barrier Cream  PYUNKANG YUL  15600   \n",
      "599              Rich Moist Soothing Cream   DEAR KLAIRS  29500   \n",
      "486     SKIN1004 Madagascar Centella Cream      SKIN1004  71630   \n",
      "666  Centella Asiatica Barrier Moisturizer         NPURE   8500   \n",
      "517                    Pure Fit Cica Cream         COSRX  28535   \n",
      "\n",
      "                                           ingredients  rating sub-category  \\\n",
      "807  Water, Dipropylene Glycol, Glycerin, Caprylic/...     5.0   Face Cream   \n",
      "599  Beta Glucan, Centella Asiatica Extract, Sodium...     4.5   Face Cream   \n",
      "486  Centella Asiatica Extract, Squalane, Niacinami...     4.7   Face Cream   \n",
      "666  Water, Butylene Glycol, Centella Asiatica Leaf...     5.0   Face Cream   \n",
      "517  Centella AsiaticaExtract, Centella Asiatica Le...     4.8   Face Cream   \n",
      "\n",
      "        category                                            benefit  \\\n",
      "807  Moisturizer  Pelembab ringan dengan pH rendah untuk mengemb...   \n",
      "599  Moisturizer  melembabkan juga mampu memperkuat skin barrier...   \n",
      "486  Moisturizer  Mencerahkan kulit Mengurangi kerutan Menenangk...   \n",
      "666  Moisturizer  merawat kulit berjerawat, mengurangi noda beka...   \n",
      "517  Moisturizer  menenangkan kulit kemerahan dan iritasi serta ...   \n",
      "\n",
      "                                         benefit_clean  \\\n",
      "807  pelembab ringan ph rendah kembali hidrasi kuli...   \n",
      "599  melembabkan kuat skin barrier imbang kadar air...   \n",
      "486  cerah kulit kurang kerut tenang kulit iritasi ...   \n",
      "666  rawat kulit jerawat kurang noda bekas jerawat ...   \n",
      "517     tenang kulit merah iritasi bantu hidrasi kulit   \n",
      "\n",
      "                                     ingredients_clean  \n",
      "807  water dipropylene glycol glycerin caprylic cap...  \n",
      "599  beta glucan centella asiatica extract sodium h...  \n",
      "486  centella asiatica extract squalane niacinamide...  \n",
      "666  water butylene glycol centella asiatica leaf w...  \n",
      "517  centella asiaticaextract centella asiatica lea...  \n"
     ]
    }
   ],
   "source": [
    "# Fungsi untuk merekomendasikan produk berdasarkan jarak Euclidean\n",
    "def recommend_products(user_tfidf, distance_matrix, top_n=5):\n",
    "    # Ambil jarak antara input user dan semua produk\n",
    "    distances = distance_matrix[0]  # Hanya satu input user (row 0)\n",
    "    \n",
    "    # Urutkan berdasarkan jarak terkecil dan ambil top_n produk terdekat\n",
    "    recommended_indices = distances.argsort()[:top_n]\n",
    "    \n",
    "    return recommended_indices\n",
    "\n",
    "# Rekomendasikan produk berdasarkan input user\n",
    "recommended_products = recommend_products(user_tfidf_combined, euclidean_dist, top_n=5)\n",
    "\n",
    "# Tampilkan produk yang direkomendasikan\n",
    "print(skincare.iloc[recommended_products])\n"
   ]
  },
  {
   "cell_type": "code",
   "execution_count": 48,
   "metadata": {},
   "outputs": [
    {
     "name": "stdout",
     "output_type": "stream",
     "text": [
      "File recommendations.csv berhasil dibuat!\n"
     ]
    }
   ],
   "source": [
    "import pandas as pd\n",
    "\n",
    "# Misalnya, ambil 10 produk dengan jarak terkecil\n",
    "top_n = 5\n",
    "recommended_indices = euclidean_dist.argsort()[0][:top_n]\n",
    "\n",
    "# Buat DataFrame untuk menyimpan hasil rekomendasi\n",
    "recommendations = skincare.iloc[recommended_indices][['sub-category', 'name', 'ingredients', 'benefit', 'price']]\n",
    "recommendations.to_csv(\"recommendations.csv\", index=False)\n",
    "\n",
    "print(\"File recommendations.csv berhasil dibuat!\")\n"
   ]
  }
 ],
 "metadata": {
  "kernelspec": {
   "display_name": "Python 3",
   "language": "python",
   "name": "python3"
  },
  "language_info": {
   "codemirror_mode": {
    "name": "ipython",
    "version": 3
   },
   "file_extension": ".py",
   "mimetype": "text/x-python",
   "name": "python",
   "nbconvert_exporter": "python",
   "pygments_lexer": "ipython3",
   "version": "3.10.7"
  }
 },
 "nbformat": 4,
 "nbformat_minor": 2
}
